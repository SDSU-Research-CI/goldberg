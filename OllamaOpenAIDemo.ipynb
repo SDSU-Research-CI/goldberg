{
 "cells": [
  {
   "cell_type": "markdown",
   "id": "d57eb183-54f7-40d8-8b99-6246d703a34e",
   "metadata": {},
   "source": [
    "# OpenAI API Example"
   ]
  },
  {
   "cell_type": "code",
   "execution_count": 1,
   "id": "76a72086-eeb1-4463-b1a7-d78b8b11a57e",
   "metadata": {},
   "outputs": [
    {
     "data": {
      "text/plain": [
       "\"Hello Professor David Goldberg! It's nice to meet you. I hope you're having a great day and that your work is going well. Is there anything in particular that you'd like to chat about? I'm happy to help with any questions or topics you might have.\""
      ]
     },
     "execution_count": 1,
     "metadata": {},
     "output_type": "execute_result"
    }
   ],
   "source": [
    "from openai import OpenAI\n",
    "\n",
    "client = OpenAI(\n",
    "    base_url='http://localhost:11434/v1/',\n",
    "\n",
    "    # required but ignored\n",
    "    api_key='ollama',\n",
    ")\n",
    "\n",
    "chat_completion = client.chat.completions.create(\n",
    "    messages=[\n",
    "        {\n",
    "            'role': 'user',\n",
    "            'content': 'Say hello to Professor David Goldberg',\n",
    "        }\n",
    "    ],\n",
    "    model='llama3',\n",
    ")\n",
    "chat_completion.choices[0].message.content"
   ]
  },
  {
   "cell_type": "markdown",
   "id": "e70c4feb-7d66-43f6-868e-5720490e08ab",
   "metadata": {},
   "source": [
    "# Ollama API Example"
   ]
  },
  {
   "cell_type": "code",
   "execution_count": 2,
   "id": "3b45d91a-339a-4c32-99a3-600d1dfb2366",
   "metadata": {},
   "outputs": [
    {
     "name": "stdout",
     "output_type": "stream",
     "text": [
      "{'model': 'llama3', 'created_at': '2024-05-31T23:41:07.315054574Z', 'response': 'What a great question', 'done': True, 'done_reason': 'stop', 'context': [128006, 882, 128007, 271, 10445, 374, 279, 13180, 6437, 30, 128009, 128006, 78191, 128007, 271, 3923, 264, 2294, 3488, 128009], 'total_duration': 6201021885, 'load_duration': 3137517484, 'prompt_eval_count': 15, 'prompt_eval_duration': 2147390000, 'eval_count': 5, 'eval_duration': 868021000}\n"
     ]
    }
   ],
   "source": [
    "import requests\n",
    "\n",
    "url = \"http://localhost:11434/api/generate\"\n",
    "\n",
    "payload = {\n",
    "    \"model\": \"llama3\",\n",
    "    \"prompt\": \"Why is the sky blue?\",\n",
    "    \"stream\": False,\n",
    "    \"options\": {\n",
    "        \"num_keep\": 5,\n",
    "        \"seed\": 42,\n",
    "        \"num_predict\": 100,\n",
    "        \"top_k\": 20,\n",
    "        \"top_p\": 0.9,\n",
    "        \"tfs_z\": 0.5,\n",
    "        \"typical_p\": 0.7,\n",
    "        \"repeat_last_n\": 33,\n",
    "        \"temperature\": 0.8,\n",
    "        \"repeat_penalty\": 1.2,\n",
    "        \"presence_penalty\": 1.5,\n",
    "        \"frequency_penalty\": 1.0,\n",
    "        \"mirostat\": 1,\n",
    "        \"mirostat_tau\": 0.8,\n",
    "        \"mirostat_eta\": 0.6,\n",
    "        \"penalize_newline\": True,\n",
    "        \"stop\": [\"\\n\", \"user:\"],\n",
    "        \"numa\": False,\n",
    "        \"num_ctx\": 1024,\n",
    "        \"num_batch\": 2,\n",
    "        \"num_gpu\": 1,\n",
    "        \"main_gpu\": 0,\n",
    "        \"low_vram\": False,\n",
    "        \"f16_kv\": True,\n",
    "        \"vocab_only\": False,\n",
    "        \"use_mmap\": True,\n",
    "        \"use_mlock\": False,\n",
    "        \"num_thread\": 8\n",
    "    }\n",
    "}\n",
    "\n",
    "response = requests.post(url, json=payload)\n",
    "print(response.json())"
   ]
  },
  {
   "cell_type": "code",
   "execution_count": null,
   "id": "668ea8d4-4f65-4f9b-b4d3-1657ce81b6de",
   "metadata": {},
   "outputs": [],
   "source": []
  }
 ],
 "metadata": {
  "kernelspec": {
   "display_name": "Python [conda env:llm]",
   "language": "python",
   "name": "conda-env-llm-py"
  },
  "language_info": {
   "codemirror_mode": {
    "name": "ipython",
    "version": 3
   },
   "file_extension": ".py",
   "mimetype": "text/x-python",
   "name": "python",
   "nbconvert_exporter": "python",
   "pygments_lexer": "ipython3",
   "version": "3.11.5"
  }
 },
 "nbformat": 4,
 "nbformat_minor": 5
}
